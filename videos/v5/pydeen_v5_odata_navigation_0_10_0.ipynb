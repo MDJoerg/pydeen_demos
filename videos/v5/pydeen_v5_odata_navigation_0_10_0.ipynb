{
 "cells": [
  {
   "cell_type": "markdown",
   "id": "278d9463",
   "metadata": {},
   "source": [
    "##### PyDEEN Video #5\n",
    "# OData navigation and single records  \n",
    "Data Engineer Enterprise Notebook for Python\n",
    "Find more informationen at [PyPi.org](https://pypi.org/project/pydeen)\n",
    "\n",
    "Required version >= 0.10.0:\n",
    "version: 03.11.2022"
   ]
  },
  {
   "cell_type": "markdown",
   "id": "be3efd37",
   "metadata": {},
   "source": [
    "### Prerequisites\n",
    "\n",
    "For this demo the official SAP demo gateway system ES5 is used. See [here](https://blogs.sap.com/2017/12/05/new-sap-gateway-demo-system-available/) for more information. If you do not have any SAP backend for testing PyDEEN the gateway server could be a solution. An official SAP login is required (e.g. developer trial user). If you have it sign [here](https://register.sapdevcenter.com/SUPSignForms/) for a new account to access the ES5 demo system.  "
   ]
  },
  {
   "cell_type": "markdown",
   "id": "3ee6004f",
   "metadata": {},
   "source": [
    "### Story\n",
    "- This notebook will connect to the ES5 SAP gateway demo system and list the available OData endpoints\n",
    "- After selecting a endpoint and entity the data will be extracted to the python notebook\n",
    "- An export of the data is possible (e.g. with new excel format feature)\n",
    "- A single record of the result set is focused and open a seperate menu with some options\n",
    "- A new option is to follow associations and enter the sub result sets"
   ]
  },
  {
   "cell_type": "markdown",
   "id": "e1f13eb8",
   "metadata": {},
   "source": [
    "### Initialize SAP OData Backend"
   ]
  },
  {
   "cell_type": "code",
   "execution_count": null,
   "id": "f3ad405e",
   "metadata": {},
   "outputs": [],
   "source": [
    "# import required pydeen objects\n",
    "from pydeen.auth import AuthBasic\n",
    "from pydeen.sap_abap import SAPAbapHttpBackend, SAPAbapODataConnector\n",
    "\n",
    "# connection details to SAP OData Backend (ES5 Demosystem)\n",
    "sap_host = \"https://sapes5.sapdevcenter.com\"\n",
    "sap_client = \"002\"\n",
    "sap_name = \"ES5\"\n",
    "\n",
    "# enter or load authentification info\n",
    "auth = AuthBasic()\n",
    "auth.set_menu_context(sap_name)\n",
    "if not auth.load_config(auth.get_menu_filename()):\n",
    "    auth.menu()\n",
    "\n",
    "# init SAP backend and OData connector\n",
    "backend = SAPAbapHttpBackend(sap_name, sap_host, sap_client, auth=auth)\n",
    "connector = SAPAbapODataConnector(backend)"
   ]
  },
  {
   "cell_type": "markdown",
   "id": "f0127622",
   "metadata": {},
   "source": [
    "### Open SAP OData Connector Menu\n",
    "\n",
    "\n",
    "#### Select endpoint\n",
    "- display available endpoints via connector menu\n",
    "- search with wildcard \"*SHOP*\"\n",
    "- select endpoint XXX\n",
    "\n",
    "#### Select entity and extract data\n",
    "- select available entities in endpoint via connector menu (\"Products\")\n",
    "- extract data from backend\n",
    "\n",
    "#### Select single record and open single result menu\n",
    "- select single result via connector menu\n",
    "- search for record with wildcard \"*M6*\"\n",
    "- select record \"Washer M6\"\n",
    "- open single result menu\n",
    "- display raw data\n",
    "\n",
    "#### Follow OData navigation\n",
    "- open menu \"Follow OData association\"\n",
    "- select \"ReviewAggregates\"\n",
    "- display raw data\n",
    "\n",
    "#### Transform to pandas dataframe object and use export features\n",
    "- use menu \"Open as pandas result\"\n",
    "- display dataframe\n",
    "- use export features (e.g. new excel format, datahub, ...)\n",
    "- leave menus to single result or connector menu\n",
    "- clear menu context\n"
   ]
  },
  {
   "cell_type": "code",
   "execution_count": null,
   "id": "ae47d89f",
   "metadata": {},
   "outputs": [],
   "source": [
    "# open the SAP OData connector menu \n",
    "connector.menu()"
   ]
  }
 ],
 "metadata": {
  "kernelspec": {
   "display_name": "Python 3 (ipykernel)",
   "language": "python",
   "name": "python3"
  },
  "language_info": {
   "codemirror_mode": {
    "name": "ipython",
    "version": 3
   },
   "file_extension": ".py",
   "mimetype": "text/x-python",
   "name": "python",
   "nbconvert_exporter": "python",
   "pygments_lexer": "ipython3",
   "version": "3.9.12"
  },
  "vscode": {
   "interpreter": {
    "hash": "ad2bdc8ecc057115af97d19610ffacc2b4e99fae6737bb82f5d7fb13d2f2c186"
   }
  }
 },
 "nbformat": 4,
 "nbformat_minor": 5
}
