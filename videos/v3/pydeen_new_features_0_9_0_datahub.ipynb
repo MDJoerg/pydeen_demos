{
 "cells": [
  {
   "cell_type": "markdown",
   "id": "278d9463",
   "metadata": {},
   "source": [
    "# PyDEEN Package 0.9.0\n",
    "Data Engineer Enterprise Notebook for Python\n",
    "Find more informationen at [PyPi.org](https://pypi.org/project/pydeen)\n",
    "\n",
    "version: 05.10.2022"
   ]
  },
  {
   "cell_type": "markdown",
   "id": "e7ea3d57",
   "metadata": {},
   "source": [
    "## Datahub and native pandas dataframe integration"
   ]
  },
  {
   "cell_type": "markdown",
   "id": "5f47e38c",
   "metadata": {},
   "source": [
    "### Create a native pandas dataframe from csv\n",
    "- load pandas dateframe from csv"
   ]
  },
  {
   "cell_type": "code",
   "execution_count": null,
   "id": "71240c42",
   "metadata": {},
   "outputs": [],
   "source": [
    "import pandas as pd\n",
    "native_df = pd.read_csv(\"sales_data.csv\", sep=\"\\t\")\n",
    "print(native_df)"
   ]
  },
  {
   "cell_type": "markdown",
   "id": "c250dad8",
   "metadata": {},
   "source": [
    "### Use native dataframe with PyDEEN\n",
    "- create a PandasResultDataframe object\n",
    "- open menu\n",
    "- set description to \"sales data from native dataframe\"\n",
    "- export to datahub with key \"native_sales_data\"\n",
    "- quit"
   ]
  },
  {
   "cell_type": "code",
   "execution_count": null,
   "id": "49555dbb",
   "metadata": {},
   "outputs": [],
   "source": [
    "from pydeen.pandas import PandasResultDataframe\n",
    "\n",
    "result_df = PandasResultDataframe(\"native_df\", native_df)\n",
    "result_df.menu()"
   ]
  },
  {
   "cell_type": "markdown",
   "id": "be3efd37",
   "metadata": {},
   "source": [
    "### Create a pandas dataframe from csv file \n",
    "- create an empty pandas result set\n",
    "- open the menu\n",
    "- load csv file \"sales_data.csv\"\n",
    "- set description \"sales data from csv\"\n",
    "- enter some pandas features\n",
    "- export as pickle file\n",
    "- export to datahub with key \"csv_loaded\"\n",
    "- quit"
   ]
  },
  {
   "cell_type": "code",
   "execution_count": null,
   "id": "3bf673df",
   "metadata": {},
   "outputs": [],
   "source": [
    "from pydeen.pandas import PandasResultDataframe\n",
    "\n",
    "result_df = PandasResultDataframe(\"sales_data\")\n",
    "result_df.menu()"
   ]
  },
  {
   "cell_type": "markdown",
   "id": "d6bcd94a",
   "metadata": {},
   "source": [
    "### Using the datahub and get the pandas dataframe back\n",
    "- get the datahub object (singleton)\n",
    "- open the datahub menu\n",
    "- display list\n",
    "- open specific object menu\n",
    "- remember the key\n",
    "- quit datahub menu\n",
    "- get the object from datahub by key"
   ]
  },
  {
   "cell_type": "code",
   "execution_count": null,
   "id": "48526562",
   "metadata": {},
   "outputs": [],
   "source": [
    "from pydeen.types import Factory\n",
    "\n",
    "datahub = Factory.get_datahub()\n",
    "print(datahub)\n",
    "datahub.menu()\n",
    "\n",
    "dh_key = input(\"Enter the datahub key: \")\n",
    "if dh_key != None and len(dh_key) > 0:\n",
    "    dh_object = datahub.get_object(dh_key)\n",
    "    if dh_object == None or not isinstance(dh_object, PandasResultDataframe):\n",
    "        print(\"wrong key or object type: \", type(dh_object))\n",
    "    else:\n",
    "        print(dh_object)\n",
    "        dh_dataframe = dh_object.get_dataframe()\n",
    "        print(dh_dataframe)"
   ]
  }
 ],
 "metadata": {
  "kernelspec": {
   "display_name": "Python 3 (ipykernel)",
   "language": "python",
   "name": "python3"
  },
  "language_info": {
   "codemirror_mode": {
    "name": "ipython",
    "version": 3
   },
   "file_extension": ".py",
   "mimetype": "text/x-python",
   "name": "python",
   "nbconvert_exporter": "python",
   "pygments_lexer": "ipython3",
   "version": "3.9.12"
  },
  "vscode": {
   "interpreter": {
    "hash": "ad2bdc8ecc057115af97d19610ffacc2b4e99fae6737bb82f5d7fb13d2f2c186"
   }
  }
 },
 "nbformat": 4,
 "nbformat_minor": 5
}
