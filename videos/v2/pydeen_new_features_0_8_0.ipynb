{
 "cells": [
  {
   "cell_type": "markdown",
   "id": "278d9463",
   "metadata": {},
   "source": [
    "## PyDEEN Package - new features in 0.8.0\n",
    "Data Engineer Enterprise Notebook for Python\n",
    "Find more informationen at [PyPi.org](https://pypi.org/project/pydeen)\n",
    "\n",
    "Changelog for 0.8.0:\n",
    "- NEW: Datahub feature for store multiple data objects in one session\n",
    "- NEW: select single entry from record list\n",
    "- SAPAbapHttpBackend replaces HttpBackend in sap abap scenarios\n",
    "- SAP OData Connector: single record selection\n",
    "- websockets: cloud events - answering to incoming ce message\n",
    "- websockets: authentification issue for direct sap sicf path\n",
    "- auth: generate http header authorization parameter value\n",
    "- menu: lower case character allowed\n",
    "- bugfix: pandas menu: datefrom -> dataframe\n",
    "- bugfix: save content: filename issues (result, metainfo)\n",
    "\n",
    "\n",
    "version: 16.09.2022"
   ]
  },
  {
   "cell_type": "markdown",
   "id": "be3efd37",
   "metadata": {},
   "source": [
    "### Preparation of SAP OData access"
   ]
  },
  {
   "cell_type": "code",
   "execution_count": null,
   "id": "f3ad405e",
   "metadata": {},
   "outputs": [],
   "source": [
    "# 1. required imports\n",
    "from pydeen.auth import AuthBasic\n",
    "from pydeen.sap_abap import SAPAbapHttpBackend, SAPAbapODataConnector\n",
    "from pydeen.types import Factory\n",
    "from pydeen.pandas import PandasResultDataframe\n",
    "\n",
    "\n",
    "# 2. enter your sap backend connection details\n",
    "sap_host = \"http://s4h.pydeen.local:50000\"\n",
    "sap_client = \"110\" \n",
    "sap_name = \"S4H110\"\n",
    "\n",
    "\n",
    "# 3. load authentification or open menu for interaction\n",
    "auth = AuthBasic()\n",
    "auth.set_menu_context(sap_name)\n",
    "if not auth.load_config(auth.get_menu_filename()):\n",
    "    auth.menu()\n",
    "\n",
    "\n",
    "# 4. open a SAP backend with OData connector\n",
    "backend = SAPAbapHttpBackend(sap_name, sap_host, sap_client, auth=auth)\n",
    "connector = SAPAbapODataConnector(backend)"
   ]
  },
  {
   "cell_type": "markdown",
   "id": "db4f7b48",
   "metadata": {},
   "source": [
    "### Open interactive notebook modus\n",
    "\n",
    "Check the new features:\n",
    "- individual menus for extracted and transformed data\n",
    "- pick a single record from resultset and check the menu\n",
    "- use the new \"export to datahub\" feature"
   ]
  },
  {
   "cell_type": "code",
   "execution_count": null,
   "id": "9aef43ab",
   "metadata": {},
   "outputs": [],
   "source": [
    "# 5. open interactive notebook mode of connector object\n",
    "connector.menu()"
   ]
  },
  {
   "cell_type": "markdown",
   "id": "e6dfbdae",
   "metadata": {},
   "source": [
    "### Access the new datahub \n"
   ]
  },
  {
   "cell_type": "code",
   "execution_count": null,
   "id": "93837aee",
   "metadata": {},
   "outputs": [],
   "source": [
    "# 6. get access to datahub and open menu\n",
    "datahub = Factory.get_datahub()\n",
    "datahub.menu()"
   ]
  },
  {
   "cell_type": "markdown",
   "id": "47644f6a",
   "metadata": {},
   "source": [
    "### Acess to objects from datahub"
   ]
  },
  {
   "cell_type": "code",
   "execution_count": null,
   "id": "a1ef1dfe",
   "metadata": {},
   "outputs": [],
   "source": [
    "# 7. use the datahub for get extraction results\n",
    "if datahub.get_count() == 0:\n",
    "    print(\"no objects found in datahub\")\n",
    "else:\n",
    "# 8. check given objects\n",
    "    keys = datahub.get_key_list()\n",
    "    print(\"Objects found in Datahub:\")\n",
    "    for key in keys:\n",
    "        print(key, datahub.get_object(key))    \n",
    "\n",
    "# 9. get an object via key and open menu\n",
    "    entered_key = \"\"\n",
    "    while not entered_key is None:\n",
    "        entered_key = input(\"Enter datahub key (enter for quit): \")\n",
    "        if entered_key == \"\" or entered_key == None:\n",
    "            break\n",
    "        else:\n",
    "            # get datahub object\n",
    "            object = datahub.get_object(entered_key)\n",
    "            print(\"Open menu for object: \", object)\n",
    "            # check if pandas dataframe \n",
    "            if isinstance(object, PandasResultDataframe):\n",
    "                df = PandasResultDataframe.get_result_as_pandas_df(object)\n",
    "                print(df)\n",
    "            # open object menu\n",
    "            object.menu()\n"
   ]
  }
 ],
 "metadata": {
  "kernelspec": {
   "display_name": "Python 3 (ipykernel)",
   "language": "python",
   "name": "python3"
  },
  "language_info": {
   "codemirror_mode": {
    "name": "ipython",
    "version": 3
   },
   "file_extension": ".py",
   "mimetype": "text/x-python",
   "name": "python",
   "nbconvert_exporter": "python",
   "pygments_lexer": "ipython3",
   "version": "3.9.12"
  },
  "vscode": {
   "interpreter": {
    "hash": "ad2bdc8ecc057115af97d19610ffacc2b4e99fae6737bb82f5d7fb13d2f2c186"
   }
  }
 },
 "nbformat": 4,
 "nbformat_minor": 5
}
