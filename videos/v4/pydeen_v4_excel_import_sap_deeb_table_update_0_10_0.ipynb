{
 "cells": [
  {
   "cell_type": "markdown",
   "id": "278d9463",
   "metadata": {},
   "source": [
    "# PyDEEN Video #4\n",
    "# Using SAP ABAP Deep Connector to transfer data to SAP Backend \n",
    "Data Engineer Enterprise Notebook for Python\n",
    "Find more informationen at [PyPi.org](https://pypi.org/project/pydeen)\n",
    "\n",
    "Required version >= 0.10.0:\n",
    "version: 03.11.2022"
   ]
  },
  {
   "cell_type": "markdown",
   "id": "be3efd37",
   "metadata": {},
   "source": [
    "### Prerequisites\n",
    "\n",
    "The PyDEEN DEEB Connector requires a special SAP backend Addon \"DEEB\". The DEEB Addon is listed at the [SAP Open Source Marketplace dotabap.org\"](https://dotabap.org). \n",
    "\n",
    "This has to be installed in your SAP server using [abapGit](https://abapgit.org/). See [this](https://blogs.sap.com/2017/06/21/abapgit-so-easy/) or other SAP Blogs with hashtag [abapgit](https://blogs.sap.com/tag/abapgit/).\n",
    "\n",
    "See the [DEEB Github Repository](https://github.com/MDJoerg/deeb) for more information about the DEEB backend addon. "
   ]
  },
  {
   "cell_type": "markdown",
   "id": "3ee6004f",
   "metadata": {},
   "source": [
    "### Story\n",
    "- This notebook will load some MS Excel data into the SAP DEEB connector context using the pandas dataframe import feature. \n",
    "- From this data a SAP table template will be generated. \n",
    "- With the Eclipse [ADT Tools](https://tools.eu1.hana.ondemand.com/) a sap table object will be created in SAP backend. \n",
    "- Then the data from the DEEB connector context data will be transferred to the SAP backend and the new created table will be updated\n",
    "- Check the sap table data with eclipse data preview.\n",
    "- Possible next step: build a Core Data Services Layer (CDS) using this table."
   ]
  },
  {
   "cell_type": "markdown",
   "id": "e1f13eb8",
   "metadata": {},
   "source": [
    "### Initialize SAP ABAP Backend\n",
    "- enter your sap system details\n",
    "- enter your authorization at first call and save it for later\n",
    "- init a SAPAbapDeebConnector backend instance "
   ]
  },
  {
   "cell_type": "code",
   "execution_count": null,
   "id": "f3ad405e",
   "metadata": {},
   "outputs": [],
   "source": [
    "# required imports\n",
    "from pydeen.auth import AuthBasic\n",
    "from pydeen.sap_abap import SAPAbapHttpBackend\n",
    "from pydeen.sap_deeb import SAPAbapDeebConnector\n",
    "\n",
    "# enter your sap backend connection details\n",
    "sap_host = \"http://s4d.pydeen.local\"\n",
    "sap_client = \"100\" \n",
    "sap_name = \"S4D100\"\n",
    "\n",
    "# load authentification or open menu for interaction\n",
    "auth = AuthBasic()\n",
    "auth.set_menu_context(sap_name)\n",
    "if not auth.load_config(auth.get_menu_filename()):\n",
    "    auth.menu()\n",
    "\n",
    "\n",
    "# initialize a connection to SAP backend \n",
    "backend = SAPAbapHttpBackend(sap_name, sap_host, sap_client, auth=auth)\n",
    "connector = SAPAbapDeebConnector(backend)\n",
    "print(connector.ping())"
   ]
  },
  {
   "cell_type": "markdown",
   "id": "f0127622",
   "metadata": {},
   "source": [
    "### Open SAP ABAP DEEB Connector Menu\n",
    "\n",
    "\n",
    "#### Connector menu options\n",
    "- ping the backend and check version of SAP DEEB addon\n",
    "- visit different options from main menu \n",
    "\n",
    "#### Import Data\n",
    "- use \"Import pandas dataframe\"\n",
    "- use \"Load from dataframe excel file\" and select file\n",
    "- display dataframe\n",
    "- quit dataframe menu\n",
    "\n",
    "#### Generate sap table template\n",
    "- open pandas dataframe menu again\n",
    "- see the additional menus from DEEB connector\n",
    "- generate table template\n",
    "\n",
    "#### Create sap table\n",
    "- create sap table object with eclipse and insert template code\n",
    "- modify template code and activate\n",
    "\n",
    "#### Export pandas dataframe to SAP table \n",
    "- use menu option \"Export to SAP Backend as Z-Table\"\n",
    "- check the table data in eclipse"
   ]
  },
  {
   "cell_type": "code",
   "execution_count": null,
   "id": "ae47d89f",
   "metadata": {},
   "outputs": [],
   "source": [
    "# open the DEEB connector menu \n",
    "connector.menu()"
   ]
  },
  {
   "cell_type": "markdown",
   "id": "fdc0b194",
   "metadata": {},
   "source": [
    "### Expert info: JIRA ticket transfer (video only)\n",
    "Example code for select Jira tickets and transfer it to SAP. Using the same steps except the data is transfered via datahub feature or saved as file (e.g. pickle format) from the pandas dataframe menu."
   ]
  },
  {
   "cell_type": "code",
   "execution_count": null,
   "id": "75ea9d61",
   "metadata": {},
   "outputs": [],
   "source": [
    "# source of Jira code: https://www.geeksforgeeks.org/how-to-fetch-data-from-jira-in-python/\n",
    "\n",
    "# import the installed Jira library\n",
    "from jira import JIRA\n",
    "from pydeen.auth import AuthBasic\n",
    "from pydeen.types import Result\n",
    "from pydeen.pandas import PandasResultDataframe\n",
    "from pydeen.sap_abap import SAPAbapHttpBackend\n",
    "from pydeen.sap_deeb import SAPAbapDeebConnector\n",
    "\n",
    "jira_server  = \"https://your_jira_tenant.atlassian.net\"\n",
    "jira_user    = \"your_jira_user\"\n",
    "jira_token   = \"your_jira_token\"\n",
    "jira_project = \"your_jira_project_key\"\n",
    "\n",
    "# Specify a server key. It should be your\n",
    "# domain name link. yourdomainname.atlassian.net\n",
    "jiraOptions = {'server': jira_server}\n",
    "\n",
    "# Get a JIRA client instance, pass,\n",
    "# Authentication parameters\n",
    "# and the Server name.\n",
    "# emailID = your emailID\n",
    "# token = token you receive after registration\n",
    "jira = JIRA(options=jiraOptions, basic_auth=(jira_user, jira_token))\n",
    "\n",
    "# create an empty PyDEEN result object\n",
    "result = Result([])\n",
    "\n",
    "# Search all issues mentioned against a project name.\n",
    "for singleIssue in jira.search_issues(jql_str=f\"project = {jira_project_key}\", maxResults=0):\n",
    "    if not result.append_json_result_record(record=singleIssue.raw):\n",
    "        print(\"Error appending jira ticket: \", singleIssue.raw)\n",
    "\n",
    "# check selected jira tickets        \n",
    "lines = result.get_count()\n",
    "if lines = 0:\n",
    "    print(\"no data\")\n",
    "else:\n",
    "    print(\"Selected Jira tickets:\", lines)\n",
    "#   transform result to pandas dataframe result and open menu to check and put it into datahub \n",
    "    result_df = PandasResultDataframe(\"jira tickets\", result.get_result_as_pandas_df())\n",
    "    result_df.menu()\n",
    "\n",
    "#   use SAP DEEB Connector to transfer jira data to SAP (reuse code from notebook, use datahub transfer) \n",
    "    auth = AuthBasic()\n",
    "    auth.set_menu_context(sap_name)\n",
    "    if not auth.load_config(auth.get_menu_filename()):\n",
    "        auth.menu()\n",
    "\n",
    "    backend = SAPAbapHttpBackend(sap_name, sap_host, sap_client, auth=auth)\n",
    "    connector = SAPAbapDeebConnector(backend)\n",
    "    connector.menu()"
   ]
  }
 ],
 "metadata": {
  "kernelspec": {
   "display_name": "Python 3 (ipykernel)",
   "language": "python",
   "name": "python3"
  },
  "language_info": {
   "codemirror_mode": {
    "name": "ipython",
    "version": 3
   },
   "file_extension": ".py",
   "mimetype": "text/x-python",
   "name": "python",
   "nbconvert_exporter": "python",
   "pygments_lexer": "ipython3",
   "version": "3.9.12"
  },
  "vscode": {
   "interpreter": {
    "hash": "ad2bdc8ecc057115af97d19610ffacc2b4e99fae6737bb82f5d7fb13d2f2c186"
   }
  }
 },
 "nbformat": 4,
 "nbformat_minor": 5
}
