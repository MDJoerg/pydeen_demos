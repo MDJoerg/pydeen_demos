{
 "cells": [
  {
   "cell_type": "markdown",
   "id": "278d9463",
   "metadata": {},
   "source": [
    "# PyDEEN Package - new features in 0.9.0\n",
    "Data Engineer Enterprise Notebook for Python\n",
    "Find more informationen at [PyPi.org](https://pypi.org/project/pydeen)\n",
    "\n",
    "Changelog for 0.9.0:\n",
    "\n",
    "\n",
    "\n",
    "version: 25.09.2022"
   ]
  },
  {
   "cell_type": "markdown",
   "id": "710967a2",
   "metadata": {},
   "source": [
    "## Part 1: Datahub and native pandas dataframe integration"
   ]
  },
  {
   "cell_type": "markdown",
   "id": "5f47e38c",
   "metadata": {},
   "source": [
    "### Create a native pandas dataframe from csv\n",
    "- load pandas dateframe from csv"
   ]
  },
  {
   "cell_type": "code",
   "execution_count": null,
   "id": "71240c42",
   "metadata": {},
   "outputs": [],
   "source": [
    "import pandas as pd\n",
    "native_df = pd.read_csv(\"sales_data.csv\", sep=\"\\t\")\n",
    "print(native_df)"
   ]
  },
  {
   "cell_type": "markdown",
   "id": "c250dad8",
   "metadata": {},
   "source": [
    "### Use native dataframe with PyDEEN\n",
    "- create a PandasResultDataframe object\n",
    "- open menu\n",
    "- set description to \"sales data from native dataframe\"\n",
    "- export to datahub with key \"native_sales_data\"\n",
    "- quit"
   ]
  },
  {
   "cell_type": "code",
   "execution_count": null,
   "id": "49555dbb",
   "metadata": {},
   "outputs": [],
   "source": [
    "from pydeen.pandas import PandasResultDataframe\n",
    "\n",
    "result_df = PandasResultDataframe(\"native_df\", native_df)\n",
    "result_df.menu()"
   ]
  },
  {
   "cell_type": "markdown",
   "id": "be3efd37",
   "metadata": {},
   "source": [
    "### Create a pandas dataframe from csv file \n",
    "- create an empty pandas result set\n",
    "- open the menu\n",
    "- load csv file \"sales_data.csv\"\n",
    "- set description \"sales data from csv\"\n",
    "- enter some pandas features\n",
    "- export as pickle file\n",
    "- export to datahub with key \"csv_loaded\"\n",
    "- quit"
   ]
  },
  {
   "cell_type": "code",
   "execution_count": null,
   "id": "3bf673df",
   "metadata": {},
   "outputs": [],
   "source": [
    "from pydeen.pandas import PandasResultDataframe\n",
    "\n",
    "result_df = PandasResultDataframe(\"sales_data\")\n",
    "result_df.menu()"
   ]
  },
  {
   "cell_type": "markdown",
   "id": "d6bcd94a",
   "metadata": {},
   "source": [
    "### Using the datahub and get the pandas dataframe back\n",
    "- get the datahub object (singleton)\n",
    "- open the datahub menu\n",
    "- display list\n",
    "- open specific object menu\n",
    "- remember the key\n",
    "- quit datahub\n",
    "- get the object from datahub by key"
   ]
  },
  {
   "cell_type": "code",
   "execution_count": null,
   "id": "48526562",
   "metadata": {},
   "outputs": [],
   "source": [
    "from pydeen.types import Factory\n",
    "\n",
    "datahub = Factory.get_datahub()\n",
    "print(datahub)\n",
    "datahub.menu()\n",
    "\n",
    "dh_key = input(\"Enter the datahub key: \")\n",
    "if dh_key != None and len(dh_key) > 0:\n",
    "    dh_object = datahub.get_object(dh_key)\n",
    "    if dh_object == None or not isinstance(dh_object, PandasResultDataframe):\n",
    "        print(\"wrong key or object type: \", type(dh_object))\n",
    "    else:\n",
    "        print(dh_object)\n",
    "        dh_dataframe = dh_object.get_dataframe()\n",
    "        print(dh_dataframe)"
   ]
  },
  {
   "cell_type": "markdown",
   "id": "22777616",
   "metadata": {},
   "source": [
    "## Part 2: SAP ABAP OData & DEEB Connector with Datahub Features"
   ]
  },
  {
   "cell_type": "markdown",
   "id": "e1f13eb8",
   "metadata": {},
   "source": [
    "### Initialize SAP ABAP Backend\n",
    "- enter your sap system details\n",
    "- enter your authorization at first call and save it for later"
   ]
  },
  {
   "cell_type": "code",
   "execution_count": 1,
   "id": "f3ad405e",
   "metadata": {},
   "outputs": [],
   "source": [
    "# required imports\n",
    "from pydeen.auth import AuthBasic\n",
    "from pydeen.sap_abap import SAPAbapHttpBackend, SAPAbapODataConnector\n",
    "from pydeen.sap_deeb import SAPAbapDeebConnector\n",
    "from pydeen.types import Factory\n",
    "from pydeen.pandas import PandasResultDataframe\n",
    "\n",
    "# enter your sap backend connection details\n",
    "sap_host = \"http://s4d.pydeen.local\"\n",
    "sap_client = \"100\" \n",
    "sap_name = \"S4D100\"\n",
    "\n",
    "# load authentification or open menu for interaction\n",
    "auth = AuthBasic()\n",
    "auth.set_menu_context(sap_name)\n",
    "if not auth.load_config(auth.get_menu_filename()):\n",
    "    auth.menu()\n",
    "\n",
    "\n",
    "# initialize a connection to SAP backend \n",
    "backend = SAPAbapHttpBackend(sap_name, sap_host, sap_client, auth=auth)"
   ]
  },
  {
   "cell_type": "markdown",
   "id": "dd51b78e",
   "metadata": {},
   "source": [
    "### Open a OData connection for SA ABAP Backends \n",
    "- search for sap odata endpoints: e.g. \"\\*INVOIC\\*\"\n",
    "- select entity: e.g. invoice types\n",
    "- extract data\n",
    "- get as pandas dataframe\n",
    "- open pandas result menu\n",
    "- rename: e.g. sap_invoice_data\n",
    "- set description: e.g. \"SAP Invoice Types\"\n",
    "- export to datahub with key \"sap_inv_types\"\n",
    "- quit pandas result menu\n",
    "- open datahub menu\n",
    "- list all datahub objects\n",
    "- quit connector menu"
   ]
  },
  {
   "cell_type": "code",
   "execution_count": null,
   "id": "854290bb",
   "metadata": {},
   "outputs": [],
   "source": [
    "connector_odata = SAPAbapODataConnector(backend)\n",
    "connector_odata.menu()"
   ]
  },
  {
   "cell_type": "markdown",
   "id": "f0127622",
   "metadata": {},
   "source": [
    "### Open a connection to SAP ABAP DEEB Addon \n",
    "\n",
    "This scenario requires the free [ABAP Addon](https://github.com/MDJoerg/deeb) based on [abapGit](https://abapgit.org/). You have to install this first. See [this](https://blogs.sap.com/2017/06/21/abapgit-so-easy/) or other SAP Blogs with hashtag [abapgit](https://blogs.sap.com/tag/abapgit/).\n",
    "\n",
    "If your system is prepared you can follow this steps:\n",
    "- Ping the backend an check the version of the DEEB Addon. Version >0.1.3 is required\n",
    "- Search for Tables: e.g. \"QA*\"\n",
    "- Search for CDS Views: e.g. \"I_CUST*\n",
    "- Execute SQL select statement: e.g. \"select * from TVAPT\"\n",
    "- get as pandas dateframe\n",
    "- open pandas dataframe menu\n",
    "- export to datahub\n",
    "- quit pandas dataframe menu\n",
    "- open datahub menu\n",
    "- reset menu context\n",
    "- import from datahub\n"
   ]
  },
  {
   "cell_type": "code",
   "execution_count": null,
   "id": "ae47d89f",
   "metadata": {},
   "outputs": [
    {
     "name": "stdout",
     "output_type": "stream",
     "text": [
      "PyDEEN logging initialized (version 0.8.29)\n",
      "\n",
      "SAP ABAP DEEB Connector - Menu\n",
      "==============================\n",
      "1 - Ping ABAP Backend DEEB Service\n",
      "2 - Search table\n",
      "3 - Search cds view\n",
      "4 - Excecute SQL Select Statement\n",
      "5 - Import pandas dataframe\n",
      "6 - Reset menu context\n",
      "Q - Quit\n"
     ]
    }
   ],
   "source": [
    "connector_deeb = SAPAbapDeebConnector(backend)\n",
    "connector_deeb.menu()"
   ]
  }
 ],
 "metadata": {
  "kernelspec": {
   "display_name": "Python 3 (ipykernel)",
   "language": "python",
   "name": "python3"
  },
  "language_info": {
   "codemirror_mode": {
    "name": "ipython",
    "version": 3
   },
   "file_extension": ".py",
   "mimetype": "text/x-python",
   "name": "python",
   "nbconvert_exporter": "python",
   "pygments_lexer": "ipython3",
   "version": "3.9.12"
  },
  "vscode": {
   "interpreter": {
    "hash": "ad2bdc8ecc057115af97d19610ffacc2b4e99fae6737bb82f5d7fb13d2f2c186"
   }
  }
 },
 "nbformat": 4,
 "nbformat_minor": 5
}
